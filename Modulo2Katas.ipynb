{
 "cells": [
  {
   "cell_type": "markdown",
   "metadata": {},
   "source": [
    "## Ejercicio - Crear un paquete"
   ]
  },
  {
   "cell_type": "code",
   "execution_count": null,
   "metadata": {},
   "outputs": [],
   "source": [
    "Last login: Fri Feb 11 22:01:24 on ttys000\n",
    "\n",
    "The default interactive shell is now zsh.\n",
    "To update your account to use zsh, please run `chsh -s /bin/zsh`.\n",
    "For more details, please visit https://support.apple.com/kb/HT208050.\n",
    "Andrea-Guzman:~ jonathanmartinez$ python3 -m venv env\n",
    "Andrea-Guzman:~ jonathanmartinez$ pwd\n",
    "/Users/jonathanmartinez\n",
    "Andrea-Guzman:~ jonathanmartinez$ source env/bin/activate\n",
    "(env) Andrea-Guzman:~ jonathanmartinez$ pip freeze\n",
    "python-dateutil==2.8.2\n",
    "six==1.16.0\n",
    "(env) Andrea-Guzman:~ jonathanmartinez$ pip install python-dateutil\n",
    "Requirement already satisfied: python-dateutil in ./env/lib/python3.10/site-packages (2.8.2)\n",
    "Requirement already satisfied: six>=1.5 in ./env/lib/python3.10/site-packages (from python-dateutil) (1.16.0)\n",
    "WARNING: You are using pip version 21.2.4; however, version 22.0.3 is available.\n",
    "You should consider upgrading via the '/Users/jonathanmartinez/env/bin/python3 -m pip install --upgrade pip' command.\n",
    "(env) Andrea-Guzman:~ jonathanmartinez$ pip freeze\n",
    "python-dateutil==2.8.2\n",
    "six==1.16.0\n",
    "(env) Andrea-Guzman:~ jonathanmartinez$ deactivate"
   ]
  }
 ],
 "metadata": {
  "interpreter": {
   "hash": "aee8b7b246df8f9039afb4144a1f6fd8d2ca17a180786b69acc140d282b71a49"
  },
  "kernelspec": {
   "display_name": "Python 3.10.2 64-bit",
   "language": "python",
   "name": "python3"
  },
  "language_info": {
   "codemirror_mode": {
    "name": "ipython",
    "version": 3
   },
   "file_extension": ".py",
   "mimetype": "text/x-python",
   "name": "python",
   "nbconvert_exporter": "python",
   "pygments_lexer": "ipython3",
   "version": "3.10.2"
  },
  "orig_nbformat": 4
 },
 "nbformat": 4,
 "nbformat_minor": 2
}
