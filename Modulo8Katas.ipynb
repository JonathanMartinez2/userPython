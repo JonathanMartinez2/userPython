{
 "cells": [
  {
   "cell_type": "markdown",
   "metadata": {},
   "source": [
    "# Ejercicio 1: Creación de diccionario de python"
   ]
  },
  {
   "cell_type": "markdown",
   "metadata": {},
   "source": [
    "## Ejercicio 1:"
   ]
  },
  {
   "cell_type": "code",
   "execution_count": 4,
   "metadata": {},
   "outputs": [],
   "source": [
    "planeta = {\n",
    "    'nombre': 'marte',\n",
    "    'lunas': 2\n",
    "}"
   ]
  },
  {
   "cell_type": "code",
   "execution_count": 5,
   "metadata": {},
   "outputs": [
    {
     "name": "stdout",
     "output_type": "stream",
     "text": [
      "marte tiene 2 lunas\n"
     ]
    }
   ],
   "source": [
    "print(f'{planeta[\"nombre\"]} tiene {planeta[\"lunas\"]} lunas')"
   ]
  },
  {
   "cell_type": "code",
   "execution_count": 6,
   "metadata": {},
   "outputs": [],
   "source": [
    "planeta['circunferencia (km)'] = {\n",
    "    'polar': 6752,\n",
    "    'Ecuatorial': 6792\n",
    "}"
   ]
  },
  {
   "cell_type": "code",
   "execution_count": 8,
   "metadata": {},
   "outputs": [
    {
     "name": "stdout",
     "output_type": "stream",
     "text": [
      "marte  tiene polar circunferencia of 6752\n"
     ]
    }
   ],
   "source": [
    "print(f'{planeta[\"nombre\"]}  tiene  circunferencia de {planeta[\"circunferencia (km)\"][\"polar\"]}')"
   ]
  },
  {
   "cell_type": "markdown",
   "metadata": {},
   "source": [
    "## Ejercicio 2:"
   ]
  },
  {
   "cell_type": "code",
   "execution_count": 13,
   "metadata": {},
   "outputs": [
    {
     "ename": "NameError",
     "evalue": "name 'planeta_luna' is not defined",
     "output_type": "error",
     "traceback": [
      "\u001b[0;31m---------------------------------------------------------------------------\u001b[0m",
      "\u001b[0;31mNameError\u001b[0m                                 Traceback (most recent call last)",
      "\u001b[1;32m/Users/jonathanmartinez/Documents/Microsoft/Modulo8Katas.ipynb Cell 8'\u001b[0m in \u001b[0;36m<module>\u001b[0;34m\u001b[0m\n\u001b[0;32m----> <a href='vscode-notebook-cell:/Users/jonathanmartinez/Documents/Microsoft/Modulo8Katas.ipynb#ch0000009?line=0'>1</a>\u001b[0m luna \u001b[39m=\u001b[39m planeta_luna\u001b[39m.\u001b[39mvalues()\n",
      "\u001b[0;31mNameError\u001b[0m: name 'planeta_luna' is not defined"
     ]
    }
   ],
   "source": [
    "luna = planeta_luna.values()"
   ]
  },
  {
   "cell_type": "code",
   "execution_count": null,
   "metadata": {},
   "outputs": [],
   "source": [
    "planeta = len(laneta_luna.keys())"
   ]
  },
  {
   "cell_type": "code",
   "execution_count": null,
   "metadata": {},
   "outputs": [],
   "source": [
    "totalLunas = 0\n",
    "for moon in luna:\n",
    "    totalLunas = totalLunas + moon\n",
    "\n",
    "\n",
    "promedi = totalLunas / planeta\n",
    "\n",
    "print(promedi)"
   ]
  }
 ],
 "metadata": {
  "interpreter": {
   "hash": "aee8b7b246df8f9039afb4144a1f6fd8d2ca17a180786b69acc140d282b71a49"
  },
  "kernelspec": {
   "display_name": "Python 3.10.2 64-bit",
   "language": "python",
   "name": "python3"
  },
  "language_info": {
   "codemirror_mode": {
    "name": "ipython",
    "version": 3
   },
   "file_extension": ".py",
   "mimetype": "text/x-python",
   "name": "python",
   "nbconvert_exporter": "python",
   "pygments_lexer": "ipython3",
   "version": "3.10.2"
  },
  "orig_nbformat": 4
 },
 "nbformat": 4,
 "nbformat_minor": 2
}
