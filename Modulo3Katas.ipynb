{
 "cells": [
  {
   "cell_type": "markdown",
   "metadata": {},
   "source": [
    "## Ejercicio - Escribir declaraciones if, else y elif"
   ]
  },
  {
   "cell_type": "markdown",
   "metadata": {},
   "source": [
    "# Ejercicio 1:\n",
    " La velocidad del asteroide varía dependiendo de lo cerca que esté del sol, y cualquier velocidad superior a 25 kilómetros por segundo (km/s) merece una advertencia.\n",
    " Un asteroide se acerca, y viaja a una velocidad de 49 km/s.\n",
    " \n",
    "Añadir el código necesario para crear una variable que guarde la velocidad del asteroide.\n",
    "Escribe una expresión de prueba para calcular si necesita una advertencia.\n",
    "Agregue las instrucciones que se ejecutarán si la expresión de prueba es true o false."
   ]
  },
  {
   "cell_type": "code",
   "execution_count": 4,
   "metadata": {},
   "outputs": [
    {
     "name": "stdout",
     "output_type": "stream",
     "text": [
      "Cuidado un asteoride se acerca\n"
     ]
    }
   ],
   "source": [
    "velocidadAsteroide = 49\n",
    "\n",
    "if(velocidadAsteroide>25):\n",
    "    print(\"Cuidado un asteoride se acerca\")\n",
    "else:\n",
    "    print(\"Todo en orden. Buen dia.\")"
   ]
  },
  {
   "cell_type": "markdown",
   "metadata": {},
   "source": [
    "# Ejercicio 2 :\n",
    "Añadir el código necesario para crear una variable que guarde la velocidad del asteroide.\n",
    "Escribe una expresión de prueba para calcular si necesita una advertencia.\n",
    "Agregue las instrucciones que se ejecutarán si la expresión de prueba es true o false."
   ]
  },
  {
   "cell_type": "code",
   "execution_count": 3,
   "metadata": {},
   "outputs": [
    {
     "name": "stdout",
     "output_type": "stream",
     "text": [
      "Todo en orden, todo correcto.\n"
     ]
    }
   ],
   "source": [
    "velocidadAsteroide = 19\n",
    "\n",
    "if(velocidadAsteroide>=20):\n",
    "    print(\"Se producira una luz en el cielo\")\n",
    "else:\n",
    "    print(\"Todo en orden, todo correcto.\")\n",
    "\n"
   ]
  },
  {
   "cell_type": "markdown",
   "metadata": {},
   "source": [
    "# Ejercicio 3 :\n",
    "Agrega el código para crear nuevas variables para la velocidad y el tamaño del asteroide\n",
    "Para probar el código, prueba con varias velocidades y tamaños\n",
    "Escribe varias expresiones de prueba o combinaciones de expresiones de prueba para determinar qué mensaje se debe enviar a Tierra."
   ]
  },
  {
   "cell_type": "code",
   "execution_count": 5,
   "metadata": {},
   "outputs": [
    {
     "name": "stdout",
     "output_type": "stream",
     "text": [
      "Una luz se producira en el cielo\n"
     ]
    }
   ],
   "source": [
    "velocidad_asteroide = 25\n",
    "tamanio_asteroide = 40\n",
    "\n",
    "if velocidad_asteroide > 25 & tamanio_asteroide > 25:\n",
    "    print(\"Se acerca un asteoride a la tierra\")\n",
    "elif velocidad_asteroide >= 20:\n",
    "    print(\"Una luz se producira en el cielo\")\n",
    "elif tamanio_asteroide < 25:\n",
    "    print(\"Todo bien.\")\n",
    "else:\n",
    "    print(\"Todo bien.\")"
   ]
  }
 ],
 "metadata": {
  "interpreter": {
   "hash": "aee8b7b246df8f9039afb4144a1f6fd8d2ca17a180786b69acc140d282b71a49"
  },
  "kernelspec": {
   "display_name": "Python 3.10.2 64-bit",
   "language": "python",
   "name": "python3"
  },
  "language_info": {
   "codemirror_mode": {
    "name": "ipython",
    "version": 3
   },
   "file_extension": ".py",
   "mimetype": "text/x-python",
   "name": "python",
   "nbconvert_exporter": "python",
   "pygments_lexer": "ipython3",
   "version": "3.10.2"
  },
  "orig_nbformat": 4
 },
 "nbformat": 4,
 "nbformat_minor": 2
}
