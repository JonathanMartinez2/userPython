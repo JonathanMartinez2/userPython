{
 "cells": [
  {
   "cell_type": "markdown",
   "metadata": {},
   "source": [
    "# Ejercicio 1: Uso de funciones python"
   ]
  },
  {
   "cell_type": "markdown",
   "metadata": {},
   "source": [
    "## Ejercicio 1:"
   ]
  },
  {
   "cell_type": "code",
   "execution_count": 2,
   "metadata": {},
   "outputs": [],
   "source": [
    "# Función para leer 3 tanques de combustible y muestre el promedio\n",
    "\n",
    "def generate_report(tanque1, tanqueExterno, tanquedeHidrogeno):\n",
    "    total_average = (tanque1 + tanqueExterno + tanquedeHidrogeno) / 3\n",
    "    return f\"\"\"Fuel Report:\n",
    "    Total Average: {total_average}%\n",
    "    tanque1: {tanque1}%\n",
    "    tanqueExterno: {tanqueExterno}%\n",
    "    tanquedeHidrogeno: {tanquedeHidrogeno}% \n",
    "    \"\"\""
   ]
  },
  {
   "cell_type": "code",
   "execution_count": 3,
   "metadata": {},
   "outputs": [
    {
     "name": "stdout",
     "output_type": "stream",
     "text": [
      "Fuel Report:\n",
      "    Total Average: 78.33333333333333%\n",
      "    tanque1: 80%\n",
      "    tanqueExterno: 70%\n",
      "    Hydrogen tank: 85% \n",
      "    \n"
     ]
    }
   ],
   "source": [
    "print(generate_report(80, 70, 85))"
   ]
  },
  {
   "cell_type": "code",
   "execution_count": 4,
   "metadata": {},
   "outputs": [
    {
     "data": {
      "text/plain": [
       "82.0"
      ]
     },
     "execution_count": 4,
     "metadata": {},
     "output_type": "execute_result"
    }
   ],
   "source": [
    "# Función promedio \n",
    "def average(values):\n",
    "    total = sum(values)\n",
    "    numeros = len(values)\n",
    "    return total / numeros\n",
    "\n",
    "average([80, 85, 81]) "
   ]
  },
  {
   "cell_type": "code",
   "execution_count": 5,
   "metadata": {},
   "outputs": [
    {
     "name": "stdout",
     "output_type": "stream",
     "text": [
      "Fuel Report:\n",
      "    Total Average: 78.0%\n",
      "    tanque1: 88%\n",
      "    tanqueExterno: 76%\n",
      "    tanquedeHidrogeno: 70% \n",
      "    \n"
     ]
    }
   ],
   "source": [
    "\n",
    "def generate_report(tanque1, tanqueExterno, tanquedeHidrogeno):\n",
    "    return f\"\"\"Fuel Report:\n",
    "    Total Average: {average([tanque1, tanqueExterno, tanquedeHidrogeno])}%\n",
    "    tanque1: {tanque1}%\n",
    "    tanqueExterno: {tanqueExterno}%\n",
    "    tanquedeHidrogeno: {tanquedeHidrogeno}% \n",
    "    \"\"\"\n",
    "\n",
    "print(generate_report(88, 76, 70))"
   ]
  },
  {
   "cell_type": "markdown",
   "metadata": {},
   "source": [
    "## Ejercicio 2: "
   ]
  },
  {
   "cell_type": "code",
   "execution_count": 7,
   "metadata": {},
   "outputs": [
    {
     "name": "stdout",
     "output_type": "stream",
     "text": [
      "\n",
      "    Mision a Luna\n",
      "    Tiempo total: 65 minutos\n",
      "    Total disel: 500000 galones\n",
      "    \n"
     ]
    }
   ],
   "source": [
    "def reporteMision(pre_launch_time, flight_time, destination, external_tank, main_tank):\n",
    "    return f\"\"\"\n",
    "    Mision a {destination}\n",
    "    Tiempo total: {pre_launch_time + flight_time} minutos\n",
    "    Total disel: {external_tank + main_tank} galones\n",
    "    \"\"\"\n",
    "\n",
    "print(reporteMision(14, 51, \"Luna\", 200000, 300000))"
   ]
  },
  {
   "cell_type": "code",
   "execution_count": 8,
   "metadata": {},
   "outputs": [
    {
     "name": "stdout",
     "output_type": "stream",
     "text": [
      "\n",
      "    Mision a luna\n",
      "    Tiempo tota: 76 minutod\n",
      "    Total disel: 500000\n",
      "    \n"
     ]
    }
   ],
   "source": [
    "def reporteMision(destination, *minutes, **fuel_reservoirs):\n",
    "    return f\"\"\"\n",
    "    Mision a {destination}\n",
    "    Tiempo tota: {sum(minutes)} minutod\n",
    "    Total disel: {sum(fuel_reservoirs.values())}\n",
    "    \"\"\"\n",
    "\n",
    "print(reporteMision(\"luna\", 10, 15, 51, main=300000, external=200000))"
   ]
  },
  {
   "cell_type": "code",
   "execution_count": 9,
   "metadata": {},
   "outputs": [
    {
     "name": "stdout",
     "output_type": "stream",
     "text": [
      "\n",
      "    Mision a Luna\n",
      "    Tiempo tota: 74 minutos\n",
      "    Total disel: 500000\n",
      "    main tanque --> 300000 galones left\n",
      "external tanque --> 200000 galones left\n",
      "\n"
     ]
    }
   ],
   "source": [
    "def reporteMision(destination, *minutes, **fuel_reservoirs):\n",
    "    main_report = f\"\"\"\n",
    "    Mision a {destination}\n",
    "    Tiempo tota: {sum(minutes)} minutos\n",
    "    Total disel: {sum(fuel_reservoirs.values())}\n",
    "    \"\"\"\n",
    "    for tank_name, gallons in fuel_reservoirs.items():\n",
    "        main_report += f\"{tank_name} tanque --> {gallons} galones left\\n\"\n",
    "    return main_report\n",
    "\n",
    "print(reporteMision(\"Luna\", 8, 11, 55, main=300000, external=200000))"
   ]
  }
 ],
 "metadata": {
  "interpreter": {
   "hash": "aee8b7b246df8f9039afb4144a1f6fd8d2ca17a180786b69acc140d282b71a49"
  },
  "kernelspec": {
   "display_name": "Python 3.10.2 64-bit",
   "language": "python",
   "name": "python3"
  },
  "language_info": {
   "codemirror_mode": {
    "name": "ipython",
    "version": 3
   },
   "file_extension": ".py",
   "mimetype": "text/x-python",
   "name": "python",
   "nbconvert_exporter": "python",
   "pygments_lexer": "ipython3",
   "version": "3.10.2"
  },
  "orig_nbformat": 4
 },
 "nbformat": 4,
 "nbformat_minor": 2
}
